{
 "cells": [
  {
   "cell_type": "markdown",
   "metadata": {},
   "source": [
    "## Examen Bimestral – Diseño de un Sistema Básico de Recuperación de Información"
   ]
  },
  {
   "cell_type": "markdown",
   "metadata": {},
   "source": [
    "## Nombre: Michael Pillaga\n",
    "## Grupo: Gr1 Cc"
   ]
  },
  {
   "cell_type": "markdown",
   "metadata": {},
   "source": [
    "Usamos una base de datos llamada rotten-tomatoes-movies-and-critics-reviews, esta contendra dos archivos .csv, una se encarga de dar las peliculas (\"movies\") y otro de las criticas (\"reviews\") para cada una de ellas. Asi el primer paso para este ejercicio es cargar ambos BD."
   ]
  },
  {
   "cell_type": "markdown",
   "metadata": {},
   "source": [
    "En esta parte vamos a cargar los datos de ambas BD para su utilizacion en las siguientes partes del ejercicio"
   ]
  },
  {
   "cell_type": "code",
   "execution_count": 1,
   "metadata": {
    "tags": []
   },
   "outputs": [
    {
     "name": "stdout",
     "output_type": "stream",
     "text": [
      "\n",
      "Películas (tres registros de ejemplo):\n",
      "  rotten_tomatoes_link                                        movie_title  \\\n",
      "0            m/0814255  Percy Jackson & the Olympians: The Lightning T...   \n",
      "1            m/0878835                                        Please Give   \n",
      "2                 m/10                                                 10   \n",
      "\n",
      "                                          movie_info  \\\n",
      "0  Always trouble-prone, the life of teenager Per...   \n",
      "1  Kate (Catherine Keener) and her husband Alex (...   \n",
      "2  A successful, middle-aged Hollywood songwriter...   \n",
      "\n",
      "                                   critics_consensus content_rating  \\\n",
      "0  Though it may seem like just another Harry Pot...             PG   \n",
      "1  Nicole Holofcener's newest might seem slight i...              R   \n",
      "2  Blake Edwards' bawdy comedy may not score a pe...              R   \n",
      "\n",
      "                                              genres          directors  \\\n",
      "0  Action & Adventure, Comedy, Drama, Science Fic...     Chris Columbus   \n",
      "1                                             Comedy  Nicole Holofcener   \n",
      "2                                    Comedy, Romance      Blake Edwards   \n",
      "\n",
      "                                      authors  \\\n",
      "0  Craig Titley, Chris Columbus, Rick Riordan   \n",
      "1                           Nicole Holofcener   \n",
      "2                               Blake Edwards   \n",
      "\n",
      "                                              actors original_release_date  \\\n",
      "0  Logan Lerman, Brandon T. Jackson, Alexandra Da...            2010-02-12   \n",
      "1  Catherine Keener, Amanda Peet, Oliver Platt, R...            2010-04-30   \n",
      "2  Dudley Moore, Bo Derek, Julie Andrews, Robert ...            1979-10-05   \n",
      "\n",
      "   ...      production_company  tomatometer_status tomatometer_rating  \\\n",
      "0  ...        20th Century Fox              Rotten               49.0   \n",
      "1  ...  Sony Pictures Classics     Certified-Fresh               87.0   \n",
      "2  ...             Waner Bros.               Fresh               67.0   \n",
      "\n",
      "  tomatometer_count  audience_status  audience_rating audience_count  \\\n",
      "0             149.0          Spilled             53.0       254421.0   \n",
      "1             142.0          Upright             64.0        11574.0   \n",
      "2              24.0          Spilled             53.0        14684.0   \n",
      "\n",
      "   tomatometer_top_critics_count  tomatometer_fresh_critics_count  \\\n",
      "0                             43                               73   \n",
      "1                             44                              123   \n",
      "2                              2                               16   \n",
      "\n",
      "   tomatometer_rotten_critics_count  \n",
      "0                                76  \n",
      "1                                19  \n",
      "2                                 8  \n",
      "\n",
      "[3 rows x 22 columns]\n",
      "\n",
      "Reseñas de críticos (tres registros de ejemplo):\n",
      "  rotten_tomatoes_link      critic_name  top_critic       publisher_name  \\\n",
      "0            m/0814255  Andrew L. Urban       False       Urban Cinefile   \n",
      "1            m/0814255    Louise Keller       False       Urban Cinefile   \n",
      "2            m/0814255              NaN       False  FILMINK (Australia)   \n",
      "\n",
      "  review_type review_score review_date  \\\n",
      "0       Fresh          NaN  2010-02-06   \n",
      "1       Fresh          NaN  2010-02-06   \n",
      "2       Fresh          NaN  2010-02-09   \n",
      "\n",
      "                                      review_content  \n",
      "0  A fantasy adventure that fuses Greek mythology...  \n",
      "1  Uma Thurman as Medusa, the gorgon with a coiff...  \n",
      "2  With a top-notch cast and dazzling special eff...  \n"
     ]
    }
   ],
   "source": [
    "# Importar librerías\n",
    "import pandas as pd\n",
    "import numpy as np\n",
    "\n",
    "# Cargar archivos CSV\n",
    "movies_file = './archive/rotten_tomatoes_movies.csv'  # Ruta actualizada\n",
    "reviews_file = './archive/rotten_tomatoes_critic_reviews.csv'  # Ruta actualizada\n",
    "\n",
    "# Leer datos\n",
    "movies_df = pd.read_csv(movies_file)\n",
    "reviews_df = pd.read_csv(reviews_file)\n",
    "\n",
    "# Mostrar tres registros de cada archivo para verificar la carga\n",
    "print(\"\\nPelículas (tres registros de ejemplo):\")\n",
    "print(movies_df.iloc[:3])  # Mostrar las primeras tres filas del DataFrame de películas\n",
    "\n",
    "print(\"\\nReseñas de críticos (tres registros de ejemplo):\")\n",
    "print(reviews_df.iloc[:3])  # Mostrar las primeras tres filas del DataFrame de reseñas\n"
   ]
  },
  {
   "cell_type": "markdown",
   "metadata": {},
   "source": [
    "## Preprocesamiento\n",
    "Este código procesa texto contenido en un dataframe (reviews_df) para limpiar y preparar la información. Usa las librerías pandas para manejar los datos, string para eliminar puntuación, y nltk para dividir texto en palabras (tokenización) y simplificarlas a su raíz (stemming). Además, define una lista de palabras comunes (stopwords) que se eliminan por ser irrelevantes. \n",
    "\n",
    "El flujo principal consiste en: \n",
    "1. Convertir texto a minúsculas.\n",
    "2. Eliminar signos de puntuación.\n",
    "3. Tokenizar el texto en palabras individuales.\n",
    "4. Quitar palabras irrelevantes de la lista de stopwords.\n",
    "5. Aplicar stemming para reducir palabras a su forma base.\n",
    "\n",
    "El resultado procesado se guarda en una nueva columna llamada processed_review_content. Finalmente, se imprime una muestra comparando el texto original con el procesado, siempre que la columna review_content exista en el dataframe.\n"
   ]
  },
  {
   "cell_type": "code",
   "execution_count": 5,
   "metadata": {
    "tags": []
   },
   "outputs": [
    {
     "name": "stdout",
     "output_type": "stream",
     "text": [
      "\n",
      "Columna 'processed_review_content' creada con éxito.\n",
      "\n",
      "Reseñas ('review_content' procesada, ejemplo):\n",
      "                                      review_content  \\\n",
      "0  A fantasy adventure that fuses Greek mythology...   \n",
      "1  Uma Thurman as Medusa, the gorgon with a coiff...   \n",
      "2  With a top-notch cast and dazzling special eff...   \n",
      "\n",
      "                            processed_review_content  \n",
      "0  fantasi adventur fuse greek mytholog contempor...  \n",
      "1  uma thurman medusa gorgon coiffur writh snake ...  \n",
      "2  topnotch cast dazzl special effect this tide t...  \n"
     ]
    }
   ],
   "source": [
    "# Importar librerías necesarias\n",
    "import pandas as pd\n",
    "import string\n",
    "from nltk.tokenize import word_tokenize\n",
    "from nltk.stem.snowball import SnowballStemmer\n",
    "\n",
    "# Crear instancia de SnowballStemmer\n",
    "stemmer = SnowballStemmer(\"english\")  # Stemming en inglés\n",
    "\n",
    "# Definir stopwords manualmente\n",
    "custom_stopwords = set([\n",
    "    'a', 'an', 'and', 'are', 'as', 'at', 'be', 'by', 'for', 'from', 'has', 'he',\n",
    "    'in', 'is', 'it', 'its', 'of', 'on', 'that', 'the', 'to', 'was', 'were', 'will', 'with'\n",
    "])\n",
    "\n",
    "# Función para eliminar signos de puntuación\n",
    "def remove_punctuation(text):\n",
    "    return text.translate(str.maketrans('', '', string.punctuation))\n",
    "\n",
    "# Función para procesar texto\n",
    "def preprocess_text_with_stemming(text):\n",
    "    if pd.isnull(text):  # Manejar valores nulos\n",
    "        return ''\n",
    "    text = text.lower()  # Convertir a minúsculas\n",
    "    text = remove_punctuation(text)  # Eliminar signos de puntuación\n",
    "    tokens = word_tokenize(text)  # Tokenizar texto\n",
    "    tokens = [word for word in tokens if word not in custom_stopwords]  # Eliminar stopwords\n",
    "    stemmed_tokens = [stemmer.stem(word) for word in tokens]  # Aplicar stemming\n",
    "    return ' '.join(stemmed_tokens)\n",
    "\n",
    "# Procesar columnas relevantes\n",
    "# Preprocesar la columna 'review_content' de reviews_df\n",
    "if 'review_content' in reviews_df.columns:\n",
    "    reviews_df['processed_review_content'] = reviews_df['review_content'].apply(preprocess_text_with_stemming)\n",
    "    print(\"\\nColumna 'processed_review_content' creada con éxito.\")\n",
    "else:\n",
    "    print(\"La columna 'review_content' no existe en reviews_df\")\n",
    "\n",
    "# Mostrar resultados de ejemplo\n",
    "print(\"\\nReseñas ('review_content' procesada, ejemplo):\")\n",
    "if 'processed_review_content' in reviews_df.columns:\n",
    "    print(reviews_df[['review_content', 'processed_review_content']].head(3))\n",
    "else:\n",
    "    print(\"No hay datos procesados en reviews_df\")\n"
   ]
  },
  {
   "cell_type": "markdown",
   "metadata": {},
   "source": [
    "## Vectorizacion\n",
    "Este código utiliza la técnica TF-IDF para transformar un conjunto de reseñas procesadas en representaciones numéricas.\n",
    "\n",
    "1. **Preparación del Corpus**:  \n",
    "   - Verifica si la columna processed_review_content existe en el dataframe reviews_df.\n",
    "   - Si existe, convierte las reseñas procesadas en una lista (reviews_corpus) y almacena los identificadores (rotten_tomatoes_link) en otra lista.\n",
    "\n",
    "2. **Inicialización del Vectorizador TF-IDF**:  \n",
    "   - Usa TfidfVectorizer de sklearn para analizar la relevancia de términos en el corpus.\n",
    "\n",
    "3. **Ajuste y Transformación**:  \n",
    "   - Ajusta el vectorizador al corpus (fit_transform) para generar una matriz de características que representa la relevancia de los términos en las reseñas.\n",
    "\n",
    "4. **Análisis de Términos**:  \n",
    "   - Extrae y muestra la cantidad total de términos únicos generados y un ejemplo de los 10 primeros términos destacados del corpus.\n",
    "\n",
    "5. **Transformación en DataFrame (Opcional)**:  \n",
    "   - Convierte la matriz TF-IDF en un dataframe para facilitar la inspección y manipulación de las características.\n",
    "\n",
    "6. **Vinculación con Identificadores**:  \n",
    "   - Crea un nuevo dataframe que relaciona cada reseña (documento) con su enlace identificador (rotten_tomatoes_link) y su vector TF-IDF.\n",
    "\n",
    "7. **Resultados**:  \n",
    "   - Imprime ejemplos del dataframe de características TF-IDF (primeras 5 reseñas) y la vinculación de identificadores con sus vectores correspondientes.\n",
    "\n",
    "Este flujo permite convertir un corpus textual en datos numéricos listos para análisis o modelos de aprendizaje automático, mientras se mantiene la trazabilidad entre las reseñas y sus identificadores únicos.\n"
   ]
  },
  {
   "cell_type": "code",
   "execution_count": 12,
   "metadata": {
    "tags": []
   },
   "outputs": [
    {
     "name": "stdout",
     "output_type": "stream",
     "text": [
      "\n",
      "Ejemplo de identificadores y vectores TF-IDF (primeros 5 documentos):\n",
      "  rotten_tomatoes_link                                       tfidf_vector\n",
      "0            m/0814255    (0, 8178)\\t0.24835750855518937\\n  (0, 9542)\\...\n",
      "1            m/0814255    (0, 772)\\t0.39144684145955144\\n  (0, 8838)\\t...\n",
      "2            m/0814255    (0, 4456)\\t0.2912069282471908\\n  (0, 6602)\\t...\n",
      "3            m/0814255    (0, 3339)\\t0.23822254211838345\\n  (0, 997)\\t...\n",
      "4            m/0814255    (0, 150)\\t0.23430970512630783\\n  (0, 580)\\t0...\n"
     ]
    }
   ],
   "source": [
    "from sklearn.feature_extraction.text import TfidfVectorizer\n",
    "import pandas as pd\n",
    "\n",
    "# Verificar si la columna 'processed_review_content' existe\n",
    "if 'processed_review_content' in reviews_df.columns:\n",
    "    # Crear el corpus y guardar identificadores\n",
    "    reviews_corpus = reviews_df['processed_review_content'].dropna().tolist()\n",
    "    reviews_links = reviews_df['rotten_tomatoes_link'].dropna().tolist()\n",
    "else:\n",
    "    raise ValueError(\"La columna 'processed_review_content' no existe en reviews_df.\")\n",
    "\n",
    "# Inicializar el vectorizador TF-IDF con parámetros optimizados\n",
    "tfidf_vectorizer = TfidfVectorizer(\n",
    "    max_features=10000,          # Limitar a los 10,000 términos más importantes\n",
    "    max_df=0.9,                  # Excluir términos que aparecen en más del 90% de los documentos\n",
    "    min_df=5,                    # Excluir términos que aparecen en menos de 5 documentos\n",
    "    token_pattern=r'\\b[a-zA-Z]+\\b'  # Considerar solo palabras con letras (sin números)\n",
    ")\n",
    "\n",
    "# Ajustar el vectorizador al corpus y transformar las reseñas en una matriz TF-IDF\n",
    "tfidf_matrix_reviews = tfidf_vectorizer.fit_transform(reviews_corpus)\n",
    "\n",
    "# Vincular cada documento del TF-IDF con su identificador\n",
    "reviews_identifiers = pd.DataFrame({\n",
    "    'rotten_tomatoes_link': reviews_links[:1000],  # Usar solo los primeros 1000 enlaces\n",
    "    'tfidf_vector': list(tfidf_matrix_reviews[:1000])  # Guardar los vectores como columna\n",
    "})\n",
    "\n",
    "# Mostrar solo un ejemplo de identificadores y vectores TF-IDF\n",
    "print(\"\\nEjemplo de identificadores y vectores TF-IDF (primeros 5 documentos):\")\n",
    "print(reviews_identifiers.head())\n"
   ]
  },
  {
   "cell_type": "markdown",
   "metadata": {},
   "source": [
    "## Simular las consultas\n",
    "Este código es como un buscador que te ayuda a encontrar películas basadas en una palabra o frase que escribas. Lo que hace es comparar tu búsqueda con las reseñas de películas, usando una técnica llamada \"tecnica de coseno\" para ver qué tan parecidas son. Primero convierte tu búsqueda en números (con un modelo llamado TF-IDF), luego compara esos números con las reseñas, ordena las más parecidas, y las conecta con las películas correspondientes. Al final, te muestra las 10 películas más relacionadas con tu búsqueda, junto con sus reseñas."
   ]
  },
  {
   "cell_type": "code",
   "execution_count": 10,
   "metadata": {
    "tags": []
   },
   "outputs": [
    {
     "name": "stdout",
     "output_type": "stream",
     "text": [
      "\n",
      "Películas más relevantes para la consulta:\n",
      "                  movie_title                       review_content  \\\n",
      "0                      Casper              The horror, the horror.   \n",
      "14                        8MM              The horror. The horror.   \n",
      "45          Stephen King's It                   Top-Calibre horror   \n",
      "44          Stephen King's It                   Top-Calibre horror   \n",
      "1   The Bride of Frankenstein               A horror mega-classic.   \n",
      "22                 Black Swan           Retarded ballerina horror.   \n",
      "15          Alone in the Dark             The horror. The hor-ror!   \n",
      "52                 The Rental             Airbnb: The horror movie   \n",
      "91              Sleepy Hollow  A horror story without much horror.   \n",
      "92              Sleepy Hollow  A horror story without much horror.   \n",
      "\n",
      "            processed_review_content  relevance  \n",
      "0                      horror horror   1.000000  \n",
      "14                     horror horror   1.000000  \n",
      "45                  topcalibr horror   1.000000  \n",
      "44                  topcalibr horror   1.000000  \n",
      "1                   horror megaclass   1.000000  \n",
      "22           retard ballerina horror   1.000000  \n",
      "15                     horror horror   1.000000  \n",
      "52                airbnb horror movi   0.858095  \n",
      "91  horror stori without much horror   0.797625  \n",
      "92  horror stori without much horror   0.797625  \n"
     ]
    }
   ],
   "source": [
    "from sklearn.metrics.pairwise import cosine_similarity\n",
    "\n",
    "def simulate_query_reviews_to_movies(query, reviews_df, movies_df, tfidf_vectorizer, tfidf_matrix_reviews):\n",
    "  \n",
    "    # Procesar la consulta\n",
    "    processed_query = preprocess_text_with_stemming(query)\n",
    "\n",
    "    # Vectorizar la consulta\n",
    "    query_vector = tfidf_vectorizer.transform([processed_query])\n",
    "\n",
    "    # Calcular similitudes coseno con las reseñas\n",
    "    cosine_similarities = cosine_similarity(query_vector, tfidf_matrix_reviews).flatten()\n",
    "\n",
    "    # Obtener índices ordenados de las reseñas relevantes\n",
    "    related_docs_indices = cosine_similarities.argsort()[::-1]\n",
    "\n",
    "    # Crear un DataFrame con resultados relevantes de reseñas\n",
    "    relevant_reviews = reviews_df.iloc[related_docs_indices].copy()\n",
    "    relevant_reviews['relevance'] = cosine_similarities[related_docs_indices]\n",
    "\n",
    "    # Filtrar reseñas con relevancia mayor a 0 y vincular con las películas\n",
    "    relevant_reviews = relevant_reviews[relevant_reviews['relevance'] > 0]\n",
    "    merged_results = relevant_reviews.merge(\n",
    "        movies_df, on='rotten_tomatoes_link', how='inner'\n",
    "    )\n",
    "\n",
    "    # Ordenar resultados por relevancia y devolver las 10 mejores\n",
    "    merged_results = merged_results.sort_values(by='relevance', ascending=False)\n",
    "    return merged_results[['movie_title', 'review_content', 'processed_review_content', 'relevance']].head(10)\n",
    "\n",
    "# Ejecutar la consulta\n",
    "query = \"horror\"\n",
    "relevant_movies = simulate_query_reviews_to_movies(\n",
    "    query=query,\n",
    "    reviews_df=reviews_df,\n",
    "    movies_df=movies_df,\n",
    "    tfidf_vectorizer=tfidf_vectorizer,\n",
    "    tfidf_matrix_reviews=tfidf_matrix_reviews\n",
    ")\n",
    "\n",
    "# Mostrar resultados\n",
    "print(\"\\nPelículas más relevantes para la consulta:\")\n",
    "print(relevant_movies)\n"
   ]
  },
  {
   "cell_type": "markdown",
   "metadata": {},
   "source": [
    "## Analisis de resultados"
   ]
  },
  {
   "cell_type": "markdown",
   "metadata": {
    "tags": []
   },
   "source": [
    "Aqui en el analisis de resultados se puede observar que se tiene peliculas de horror con tambien el termino de horror"
   ]
  },
  {
   "cell_type": "code",
   "execution_count": null,
   "metadata": {},
   "outputs": [],
   "source": []
  }
 ],
 "metadata": {
  "kernelspec": {
   "display_name": "Python 3 (ipykernel)",
   "language": "python",
   "name": "python3"
  },
  "language_info": {
   "codemirror_mode": {
    "name": "ipython",
    "version": 3
   },
   "file_extension": ".py",
   "mimetype": "text/x-python",
   "name": "python",
   "nbconvert_exporter": "python",
   "pygments_lexer": "ipython3",
   "version": "3.11.5"
  }
 },
 "nbformat": 4,
 "nbformat_minor": 4
}
